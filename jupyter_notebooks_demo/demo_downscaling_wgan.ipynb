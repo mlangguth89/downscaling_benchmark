{
 "cells": [
  {
   "cell_type": "code",
   "execution_count": null,
   "id": "adjusted-invitation",
   "metadata": {},
   "outputs": [],
   "source": [
    "import os, sys\n",
    "import argparse\n",
    "from datetime import datetime as dt\n",
    "import numpy as np\n",
    "import xarray as xr\n",
    "from unet_model import build_unet\n",
    "from wgan_model import WGAN \n",
    "from wgan_model import critic_model\n",
    "from handle_data_unet import HandleUnetData"
   ]
  },
  {
   "cell_type": "code",
   "execution_count": null,
   "id": "noted-nepal",
   "metadata": {},
   "outputs": [],
   "source": [
    "import importlib\n",
    "importlib.reload(sys.modules['wgan_model'])\n",
    "from wgan_model import WGAN "
   ]
  },
  {
   "cell_type": "code",
   "execution_count": null,
   "id": "eligible-pepper",
   "metadata": {},
   "outputs": [],
   "source": [
    "# set diretcories and (hyper-)parameters for WGAN\n",
    "datadir = \"/p/scratch/deepacf/maelstrom/maelstrom_data/ap5_michael/preprocessed_era5_ifs/netcdf_data/all_files/\"\n",
    "outdir = \"/p/project/deepacf/maelstrom/langguth1/downscaling_jsc_repo/downscaling_unet/trained_models\"\n",
    "\n",
    "z_branch = True\n",
    "\n",
    "lr_gen = 5.e-05\n",
    "lr_gen_end = lr_gen/10.\n",
    "lr_critic = 1.e-06\n",
    "lr_decay = True\n",
    "nepochs = 1\n",
    "d_steps = 6\n",
    "\n",
    "\n",
    "# Read training and validation data\n",
    "ds_train, ds_val = xr.open_dataset(os.path.join(datadir, \"era5_to_ifs_train_corrected.nc\")), \\\n",
    "                   xr.open_dataset(os.path.join(datadir, \"era5_to_ifs_val_corrected.nc\"))\n",
    "\n",
    "print(\"Datasets for trining, validation and testing loaded.\")\n",
    "\n",
    "wgan_model = WGAN(build_unet, critic_model,\n",
    "                  {\"lr_decay\": lr_decay, \"lr_gen\": lr_gen, \"lr_critic\": lr_critic, \"lr_gen_end\": lr_gen_end,\n",
    "                   \"train_epochs\": nepochs, \"d_steps\": d_steps, \"z_branch\": z_branch})"
   ]
  },
  {
   "cell_type": "code",
   "execution_count": null,
   "id": "practical-passport",
   "metadata": {},
   "outputs": [],
   "source": [
    "# prepare data\n",
    "def reshape_ds(ds):\n",
    "    da = ds.to_array(dim=\"variables\")  # .squeeze()\n",
    "    da = da.transpose(..., \"variables\")\n",
    "    return da\n",
    "\n",
    "da_train, da_val = reshape_ds(ds_train), reshape_ds(ds_val)\n",
    "\n",
    "norm_dims = [\"time\", \"lat\", \"lon\"]\n",
    "da_train, mu_train, std_train = HandleUnetData.z_norm_data(da_train, dims=norm_dims, return_stat=True)\n",
    "da_val = HandleUnetData.z_norm_data(da_val, mu=mu_train, std=std_train)\n",
    "print(\"Datat prepared successfully!\")"
   ]
  },
  {
   "cell_type": "code",
   "execution_count": null,
   "id": "promising-driver",
   "metadata": {},
   "outputs": [],
   "source": [
    "print(\"Start compiling WGAN-model.\")\n",
    "train_iter, val_iter = wgan_model.compile(da_train.astype(np.float32), da_val.astype(np.float32))"
   ]
  },
  {
   "cell_type": "code",
   "execution_count": null,
   "id": "olive-thumbnail",
   "metadata": {},
   "outputs": [],
   "source": [
    "# train model\n",
    "print(\"Start training of WGAN...\")\n",
    "history = wgan_model.fit(train_iter, val_iter)"
   ]
  },
  {
   "cell_type": "code",
   "execution_count": null,
   "id": "defensive-branch",
   "metadata": {},
   "outputs": [],
   "source": [
    "model_name = \"wgan_lr1e-05_epochs1_opt_split_era5_ifs\"\n",
    "\n",
    "savedir = os.path.join(\"../downscaling_unet/trained_models/\", model_name)\n",
    "os.makedirs(savedir, exist_ok=True)"
   ]
  },
  {
   "cell_type": "code",
   "execution_count": null,
   "id": "lasting-vision",
   "metadata": {},
   "outputs": [],
   "source": [
    "#import copy\n",
    "#wgan_model_save = copy.copy(wgan_model)\n",
    "\n",
    "print(train_iter)"
   ]
  },
  {
   "cell_type": "markdown",
   "id": "proof-march",
   "metadata": {},
   "source": [
    "Solution to save model was posted here: https://www.reddit.com/r/tensorflow/comments/szqsgd/keras_how_to_save_the_vae_from_the_official/"
   ]
  },
  {
   "cell_type": "code",
   "execution_count": null,
   "id": "collect-burst",
   "metadata": {},
   "outputs": [],
   "source": [
    "wgan_model.generator.save(os.path.join(savedir, \"wgan_lr1e-05_epochs30_opt_split_era5_ifs_gen\"))\n",
    "wgan_model.critic.save(os.path.join(savedir, \"wgan_lr1e-05_epochs30_opt_split_era5_ifs_gen_critic\"))"
   ]
  }
 ],
 "metadata": {
  "kernelspec": {
   "display_name": "langguth1_downscaling_kernel",
   "language": "python",
   "name": "langguth1_downscaling_kernel"
  },
  "language_info": {
   "codemirror_mode": {
    "name": "ipython",
    "version": 3
   },
   "file_extension": ".py",
   "mimetype": "text/x-python",
   "name": "python",
   "nbconvert_exporter": "python",
   "pygments_lexer": "ipython3",
   "version": "3.9.6"
  }
 },
 "nbformat": 4,
 "nbformat_minor": 5
}
