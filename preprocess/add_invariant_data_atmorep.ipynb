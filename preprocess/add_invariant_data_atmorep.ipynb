{
 "cells": [
  {
   "cell_type": "markdown",
   "id": "ceeb7395-688e-43ee-9aa4-55818a592555",
   "metadata": {
    "tags": []
   },
   "source": [
    "# Notebook to add constant variables to competing AtmoRep downscaling data\n",
    "\n",
    "This Notebook processes the files generated with `preprocees_data_atmorep.sh` to add the surface topography from ERA5 and COSMO REA6 data which both constitute invariant fields, but have to be expanded to include a time-dimension."
   ]
  },
  {
   "cell_type": "code",
   "execution_count": null,
   "id": "7426cf19-7ff9-4358-8615-57164e7c7f9e",
   "metadata": {
    "tags": []
   },
   "outputs": [],
   "source": [
    "! pip install findlibs"
   ]
  },
  {
   "cell_type": "code",
   "execution_count": null,
   "id": "a2b2f8f1-7112-42ac-bf48-8018eb7e4b1d",
   "metadata": {
    "tags": []
   },
   "outputs": [],
   "source": [
    "import os\n",
    "import sys\n",
    "import glob\n",
    "from tqdm import tqdm\n",
    "\n",
    "import pandas as pd\n",
    "import numpy as np\n",
    "import xarray as xr\n",
    "import cfgrib"
   ]
  },
  {
   "cell_type": "markdown",
   "id": "8b6adba5-71f6-4ab3-b866-c76fb02cedeb",
   "metadata": {
    "tags": []
   },
   "source": [
    "Parameters:"
   ]
  },
  {
   "cell_type": "code",
   "execution_count": null,
   "id": "c2220e62-6873-4fb4-86e9-2c40a3b519ac",
   "metadata": {
    "tags": []
   },
   "outputs": [],
   "source": [
    "data_dir=\"/p/scratch/deepacf/maelstrom/maelstrom_data/ap5/competing_atmorep/\"\n",
    "invar_file_era5 = \"/p/scratch/deepacf/maelstrom/maelstrom_data/ap5/competing_atmorep/reanalysis_orography.nc\"\n",
    "invar_file_crea6 = \"/p/scratch/atmo-rep/data/cosmo_rea6/static/cosmo_rea6_orography.nc\""
   ]
  },
  {
   "cell_type": "markdown",
   "id": "afb9b245-9ecf-4c91-8103-de4811240e0e",
   "metadata": {
    "tags": []
   },
   "source": [
    "The file 'invar_file_era5' has been generated with the following CDO-command:\n",
    "``` \n",
    "cdo --reduce_dim -t ecmwf -f nc copy -remapbil,~/downscaling_maelstrom/downscaling_jsc_repo/downscaling_ap5/grid_des/crea6_reg_grid reanalysis_orography.grib reanalysis_orography.nc\n",
    "``` \n",
    "where the original grib-file was obatined from AtmoRep (```/p/scratch/atmo-rep/data/era5/static```)."
   ]
  },
  {
   "cell_type": "code",
   "execution_count": null,
   "id": "cacd266c-6e0e-476d-9805-f4fac289e3cf",
   "metadata": {
    "tags": []
   },
   "outputs": [],
   "source": [
    "file_list = glob.glob(os.path.join(data_dir, \"downscaling_atmorep*.nc\"))\n",
    "\n",
    "if len(file_list) == 0:\n",
    "    raise FileNotFoundError(f\"Could not find any datafiles under '{data_dir}'...\")"
   ]
  },
  {
   "cell_type": "code",
   "execution_count": null,
   "id": "2c9bb25b-4930-47db-8f9d-a6e1cbc59571",
   "metadata": {
    "tags": []
   },
   "outputs": [],
   "source": [
    "ds_invar_era5 = xr.open_dataset(invar_file_era5)\n",
    "ds_invar_crea6 = xr.open_dataset(invar_file_crea6).sel({\"lat\": ds_invar_era5[\"lat\"], \"lon\": ds_invar_era5[\"lon\"]})\n",
    "ds_invar_crea6 = ds_invar_crea6.drop_vars(\"FR_LAND\")"
   ]
  },
  {
   "cell_type": "code",
   "execution_count": null,
   "id": "3ebb63ef-9dd0-49e1-be15-560f87c51166",
   "metadata": {
    "tags": []
   },
   "outputs": [],
   "source": [
    "for f in tqdm(file_list):\n",
    "    # read current file\n",
    "    print(f\"Process data-file '{f}'...\")\n",
    "    ds_now = xr.open_dataset(f)\n",
    "    var_list = list(ds_now.data_vars)\n",
    "    lchange = False\n",
    "    \n",
    "    if \"z_in\" not in var_list:\n",
    "        print(f\"Add surface topography from ERA5...\")\n",
    "        dst = ds_invar_era5.expand_dims(time=ds_now[\"time\"])\n",
    "        dst = dst.rename({\"Z\": \"z_in\"})\n",
    "    \n",
    "        ds_all = xr.merge([ds_now, dst])\n",
    "        lchange = True\n",
    "        \n",
    "    if \"hsurf_tar\" not in var_list:\n",
    "        print(f\"Add surface topography from CREA6...\")\n",
    "        dst = ds_invar_crea6.expand_dims(time=ds_now[\"time\"])\n",
    "        dst = dst.rename({\"z\": \"hsurf_tar\"})\n",
    "    \n",
    "        ds_all = xr.merge([ds_all , dst])\n",
    "        lchange = True\n",
    "        \n",
    "    if \"t2m_ml0_tar\" in var_list:\n",
    "        ds_all = ds_all.rename({\"t2m_ml0_tar\": \"t2m_tar\"})\n",
    "        lchange = True\n",
    "    \n",
    "    if lchange:\n",
    "        print(f\"Write modified dataset back to '{f}'...\")\n",
    "        ds_all.to_netcdf(f.replace(\".nc\", \"_new.nc\"))\n",
    "    else:\n",
    "        print(f\"No changes to data from '{f}' applied. Continue...\")\n",
    "    "
   ]
  },
  {
   "cell_type": "code",
   "execution_count": null,
   "id": "91ceb153-5900-428f-a097-fd9aab19c669",
   "metadata": {},
   "outputs": [],
   "source": []
  }
 ],
 "metadata": {
  "kernelspec": {
   "display_name": "langguth1_downscaling_kernel",
   "language": "python",
   "name": "langguth1_downscaling_kernel"
  },
  "language_info": {
   "codemirror_mode": {
    "name": "ipython",
    "version": 3
   },
   "file_extension": ".py",
   "mimetype": "text/x-python",
   "name": "python",
   "nbconvert_exporter": "python",
   "pygments_lexer": "ipython3",
   "version": "3.9.6"
  }
 },
 "nbformat": 4,
 "nbformat_minor": 5
}
