{
 "cells": [
  {
   "cell_type": "code",
   "execution_count": null,
   "id": "b36a047f-7db7-4997-9959-3b4767f43345",
   "metadata": {
    "tags": []
   },
   "outputs": [],
   "source": [
    "%matplotlib inline\n",
    "\n",
    "import os\n",
    "import numpy as np\n",
    "import xarray as xr\n",
    "import pandas as pd\n",
    "\n",
    "import matplotlib.pyplot as plt"
   ]
  },
  {
   "cell_type": "code",
   "execution_count": null,
   "id": "ae48851c-7d59-4128-af9d-97795e610aea",
   "metadata": {
    "tags": []
   },
   "outputs": [],
   "source": [
    "# auxiliary methods\n",
    "\n",
    "def create_lines_plot(data: xr.DataArray, data_std: xr.DataArray, model_names: str, metric: dict,\n",
    "                      plt_fname: str, x_coord: str = \"hour\", **kwargs):\n",
    "\n",
    "    # get some plot parameters\n",
    "    linestyle = kwargs.get(\"linestyle\", [\"k-\", \"b-\"])\n",
    "    err_col = kwargs.get(\"error_color\", [\"grey\", \"blue\"])\n",
    "    val_range = kwargs.get(\"value_range\", (0., 3.))\n",
    "    fs = kwargs.get(\"fs\", 16)\n",
    "    ref_line = kwargs.get(\"ref_line\", None)\n",
    "    ref_linestyle = kwargs.get(\"ref_linestyle\", \"k--\")\n",
    "    \n",
    "    fig, (ax) = plt.subplots(1, 1)\n",
    "    for i, exp in enumerate(data[\"exp\"]):\n",
    "        ax.plot(data[x_coord].values, data.sel({\"exp\": exp}).values, linestyle[i],\n",
    "                label=model_names[i])\n",
    "        ax.fill_between(data[x_coord].values, data.sel({\"exp\": exp}).values-data_std.sel({\"exp\": exp}).values,\n",
    "                        data.sel({\"exp\": exp}).values+data_std.sel({\"exp\": exp}).values, facecolor=err_col[i],\n",
    "                        alpha=0.2)\n",
    "    if ref_line is not None:\n",
    "        nval = np.shape(data[x_coord].values)[0]\n",
    "        ax.plot(data[x_coord].values, np.full(nval, ref_line), ref_linestyle)\n",
    "    ax.set_ylim(*val_range)\n",
    "    # label axis\n",
    "    ax.set_xlabel(\"daytime [UTC]\", fontsize=fs)\n",
    "    metric_name, metric_unit = list(metric.keys())[0], list(metric.values())[0]\n",
    "    ax.set_ylabel(f\"{metric_name} T2m [{metric_unit}]\", fontsize=fs)\n",
    "    ax.tick_params(axis=\"both\", which=\"both\", direction=\"out\", labelsize=fs-2)\n",
    "    ax.legend(fontsize=fs-2, loc=\"upper right\")\n",
    "\n",
    "    # save plot and close figure\n",
    "    plt_fname = plt_fname + \".png\" if not plt_fname.endswith(\".png\") else plt_fname\n",
    "    print(f\"Save plot in file '{plt_fname}'\")\n",
    "    plt.tight_layout()\n",
    "    fig.savefig(plt_fname)\n",
    "    plt.close(fig)\n",
    "\n",
    "def get_id_from_fname(fname):\n",
    "    try:\n",
    "        start_index = fname.find(\"id\") + 2            # Adding 2 to move past \"id\"\n",
    "        end_index = fname.find(\"_\", start_index)\n",
    "        \n",
    "        exp_id = fname[start_index:end_index]\n",
    "    except:\n",
    "        raise ValueError(f\"Failed to deduce experiment ID from '{fname}'\")\n",
    "        \n",
    "    return exp_id"
   ]
  },
  {
   "cell_type": "code",
   "execution_count": null,
   "id": "6d57de46-706f-4386-8e14-1263a8c96666",
   "metadata": {
    "tags": []
   },
   "outputs": [],
   "source": [
    "# parameters\n",
    "results_basedir = \"/p/home/jusers/langguth1/juwels/downscaling_maelstrom/downscaling_jsc_repo/downscaling_ap5/results\"\n",
    "plt_dir = os.path.join(results_basedir, \"meta\")\n",
    "\n",
    "exp1 = \"wgan_t2m_atmorep_test\"\n",
    "exp2 = \"atmorep_id26n32cey\"\n",
    "\n",
    "varname = \"T2m\"\n",
    "year = 2018"
   ]
  },
  {
   "cell_type": "code",
   "execution_count": null,
   "id": "9c2327f6-85e9-4bc4-acb6-21b110abcdc9",
   "metadata": {
    "tags": []
   },
   "outputs": [],
   "source": [
    "# main\n",
    "os.makedirs(plt_dir, exist_ok=True)\n",
    "\n",
    "fexp1 = os.path.join(results_basedir, exp1, \"metric_files\", \"eval_rmse_year.csv\")\n",
    "fexp2 = os.path.join(results_basedir, exp2, \"metric_files\", \"eval_rmse__small_dom_year.csv\")"
   ]
  },
  {
   "cell_type": "code",
   "execution_count": null,
   "id": "0d5c40cd-586d-46b8-8069-2a14a6ab7eee",
   "metadata": {
    "tags": []
   },
   "outputs": [],
   "source": [
    "dims = [\"hour\", \"type\"]\n",
    "coord_dict = {\"hour\": np.arange(24), \"type\": [\"mean\", \"std\"]}\n",
    "\n",
    "da_rmse_exp1 = xr.DataArray(pd.read_csv(fexp1, header=0, index_col=0), dims=dims, coords=coord_dict)\n",
    "da_rmse_exp2 = xr.DataArray(pd.read_csv(fexp2, header=0, index_col=0), dims=dims, coords=coord_dict)"
   ]
  },
  {
   "cell_type": "code",
   "execution_count": null,
   "id": "ca2993fb-f008-4ef4-bcff-b3a1745116ff",
   "metadata": {
    "tags": []
   },
   "outputs": [],
   "source": [
    "da_rmse_all = xr.concat([da_rmse_exp1, da_rmse_exp2], dim= \"exp\")\n",
    "da_rmse_all = da_rmse_all.assign_coords({\"exp\": [exp1, exp2]})"
   ]
  },
  {
   "cell_type": "code",
   "execution_count": null,
   "id": "6fd5217b-c59d-4979-81e7-790ff810af04",
   "metadata": {
    "tags": []
   },
   "outputs": [],
   "source": [
    "plt_fname = os.path.join(plt_dir, f\"eval_rmse_{exp1}_{exp2}.png\")\n",
    "create_lines_plot(da_rmse_all.sel({\"type\": \"mean\"}), da_rmse_all.sel({\"type\": \"std\"}),\n",
    "                  [\"WGAN\", \"AtmoRep\"], {\"RMSE\": \"K\"}, plt_fname)"
   ]
  },
  {
   "cell_type": "code",
   "execution_count": null,
   "id": "70d7870d-25f1-49de-a646-b1d062edc474",
   "metadata": {},
   "outputs": [],
   "source": []
  }
 ],
 "metadata": {
  "kernelspec": {
   "display_name": "PyEarthSystem-2023.5",
   "language": "python",
   "name": "pyearthsystem"
  },
  "language_info": {
   "codemirror_mode": {
    "name": "ipython",
    "version": 3
   },
   "file_extension": ".py",
   "mimetype": "text/x-python",
   "name": "python",
   "nbconvert_exporter": "python",
   "pygments_lexer": "ipython3",
   "version": "3.10.4"
  }
 },
 "nbformat": 4,
 "nbformat_minor": 5
}
