{
 "cells": [
  {
   "cell_type": "code",
   "execution_count": null,
   "id": "6d799556-9628-4ed8-acfa-5a8f31190e5c",
   "metadata": {
    "tags": []
   },
   "outputs": [],
   "source": [
    "%matplotlib inline\n",
    "\n",
    "import os\n",
    "import numpy as np\n",
    "import xarray as xr\n",
    "import pandas as pd\n",
    "\n",
    "import matplotlib.pyplot as plt"
   ]
  },
  {
   "cell_type": "code",
   "execution_count": null,
   "id": "8a64d03c-882d-4a07-9fcc-2a15adbb10fa",
   "metadata": {
    "tags": []
   },
   "outputs": [],
   "source": [
    "# auxiliary methods\n",
    "\n",
    "def create_lines_plot(data: xr.DataArray, data_std: xr.DataArray, model_names: str, metric: dict,\n",
    "                      plt_fname: str, x_coord: str = \"hour\", **kwargs):\n",
    "\n",
    "    # get some plot parameters\n",
    "    linestyle = kwargs.get(\"linestyle\", [\"k-\", \"b-\"])\n",
    "    err_col = kwargs.get(\"error_color\", [\"grey\", \"blue\"])\n",
    "    val_range = kwargs.get(\"value_range\", (0.7, 1.1))\n",
    "    fs = kwargs.get(\"fs\", 16)\n",
    "    ref_line = kwargs.get(\"ref_line\", None)\n",
    "    ref_linestyle = kwargs.get(\"ref_linestyle\", \"k--\")\n",
    "    \n",
    "    fig, (ax) = plt.subplots(1, 1, figsize=(8, 6))\n",
    "    for i, exp in enumerate(data[\"exp\"]):\n",
    "        ax.plot(data[x_coord].values, data.sel({\"exp\": exp}).values, linestyle[i],\n",
    "                label=model_names[i])\n",
    "        ax.fill_between(data[x_coord].values, data.sel({\"exp\": exp}).values-data_std.sel({\"exp\": exp}).values,\n",
    "                        data.sel({\"exp\": exp}).values+data_std.sel({\"exp\": exp}).values, facecolor=err_col[i],\n",
    "                        alpha=0.2)\n",
    "    if ref_line is not None:\n",
    "        nval = np.shape(data[x_coord].values)[0]\n",
    "        ax.plot(data[x_coord].values, np.full(nval, ref_line), ref_linestyle)\n",
    "    ax.set_ylim(*val_range)\n",
    "    ax.set_yticks(np.arange(*val_range, 0.05))\n",
    "    # label axis\n",
    "    ax.set_xlabel(\"daytime [UTC]\", fontsize=fs)\n",
    "    metric_name, metric_unit = list(metric.keys())[0], list(metric.values())[0]\n",
    "    ax.set_ylabel(f\"{metric_name} T2m [{metric_unit}]\", fontsize=fs)\n",
    "    ax.tick_params(axis=\"both\", which=\"both\", direction=\"out\", labelsize=fs-2)\n",
    "    ax.legend(fontsize=fs-2, loc=\"upper right\")\n",
    "\n",
    "    # save plot and close figure\n",
    "    plt_fname = plt_fname + \".png\" if not plt_fname.endswith(\".png\") else plt_fname\n",
    "    print(f\"Save plot in file '{plt_fname}'\")\n",
    "    #plt.tight_layout()\n",
    "    #fig.savefig(plt_fname)\n",
    "    fig.savefig(plt_fname, bbox_inches=\"tight\")\n",
    "    plt.close(fig)\n",
    "\n",
    "def get_id_from_fname(fname):\n",
    "    try:\n",
    "        start_index = fname.find(\"id\") + 2            # Adding 2 to move past \"id\"\n",
    "        end_index = fname.find(\"_\", start_index)\n",
    "        \n",
    "        exp_id = fname[start_index:end_index]\n",
    "    except:\n",
    "        raise ValueError(f\"Failed to deduce experiment ID from '{fname}'\")\n",
    "        \n",
    "    return exp_id"
   ]
  },
  {
   "cell_type": "code",
   "execution_count": null,
   "id": "d8470099-80b7-46b5-bb68-933d5549ec0b",
   "metadata": {
    "tags": []
   },
   "outputs": [],
   "source": [
    "# parameters\n",
    "results_basedir = \"/p/home/jusers/langguth1/juwels/downscaling_maelstrom/downscaling_jsc_repo/downscaling_ap5/results\"\n",
    "plt_dir = os.path.join(results_basedir, \"meta\")\n",
    "\n",
    "exp1 = \"wgan_t2m_atmorep_test\"\n",
    "exp2 = \"atmorep_id26n32cey\"\n",
    "\n",
    "varname = \"T2m\"\n",
    "year = 2018"
   ]
  },
  {
   "cell_type": "code",
   "execution_count": null,
   "id": "c05778d6-0835-40b9-8010-149c05e00519",
   "metadata": {
    "tags": []
   },
   "outputs": [],
   "source": [
    "# main\n",
    "os.makedirs(plt_dir, exist_ok=True)\n",
    "\n",
    "fexp1 = os.path.join(results_basedir, exp1, \"metric_files\", \"eval_grad_amplitude_year.csv\")\n",
    "fexp2 = os.path.join(results_basedir, exp2, \"metric_files\", \"eval_grad_amplitude__small_dom_year.csv\")"
   ]
  },
  {
   "cell_type": "code",
   "execution_count": null,
   "id": "3634bcd3-40f7-4497-9561-3f41c00fc039",
   "metadata": {
    "tags": []
   },
   "outputs": [],
   "source": [
    "dims = [\"hour\", \"type\"]\n",
    "coord_dict = {\"hour\": np.arange(24), \"type\": [\"mean\", \"std\"]}\n",
    "\n",
    "da_gr_exp1 = xr.DataArray(pd.read_csv(fexp1, header=0, index_col=0), dims=dims, coords=coord_dict)\n",
    "da_gr_exp2 = xr.DataArray(pd.read_csv(fexp2, header=0, index_col=0), dims=dims, coords=coord_dict)"
   ]
  },
  {
   "cell_type": "code",
   "execution_count": null,
   "id": "492e8f95-e00f-43f6-951e-72e9a2a60d35",
   "metadata": {
    "tags": []
   },
   "outputs": [],
   "source": [
    "da_gr_all = xr.concat([da_gr_exp1, da_gr_exp2], dim= \"exp\")\n",
    "da_gr_all = da_gr_all.assign_coords({\"exp\": [exp1, exp2]})\n",
    "\n",
    "# create plot\n",
    "plt_fname = os.path.join(plt_dir, f\"eval_grad_amplitude_{exp1}_{exp2}.png\")\n",
    "create_lines_plot(da_gr_all.sel({\"type\": \"mean\"}), da_gr_all.sel({\"type\": \"std\"}),\n",
    "                  [\"WGAN\", \"AtmoRep\"], {\"GRAD_AMPLITUDE\": \"1\"}, plt_fname, re)"
   ]
  },
  {
   "cell_type": "code",
   "execution_count": null,
   "id": "f0bb44d2-85eb-4bd8-9922-ba3ce5ffd38d",
   "metadata": {},
   "outputs": [],
   "source": []
  }
 ],
 "metadata": {
  "kernelspec": {
   "display_name": "langguth1_downscaling_kernel_juwels",
   "language": "python",
   "name": "langguth1_downscaling_kernel_juwels"
  },
  "language_info": {
   "codemirror_mode": {
    "name": "ipython",
    "version": 3
   },
   "file_extension": ".py",
   "mimetype": "text/x-python",
   "name": "python",
   "nbconvert_exporter": "python",
   "pygments_lexer": "ipython3",
   "version": "3.9.6"
  }
 },
 "nbformat": 4,
 "nbformat_minor": 5
}
