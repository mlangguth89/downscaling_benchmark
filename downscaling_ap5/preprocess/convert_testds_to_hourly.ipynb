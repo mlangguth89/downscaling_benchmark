{
 "cells": [
  {
   "cell_type": "code",
   "execution_count": null,
   "id": "a01c4755-629a-4317-9e9a-d415395f08fc",
   "metadata": {
    "tags": []
   },
   "outputs": [],
   "source": [
    "import os\n",
    "import numpy as np\n",
    "import pandas as pd\n",
    "import xarray as xr\n",
    "\n",
    "def extend_data(ds, dim, n):\n",
    "    ds_ext = ds.isel({dim: range(-n, 0)})\n",
    "    ds_ext = ds_ext.reindex({dim: ds_ext[dim][::-1]})\n",
    "    ds_ext[dim] = np.arange(1, n+1) * 0.055 + ds[dim][-1].values\n",
    "    \n",
    "    print(ds_ext[dim][2] - ds_ext[dim][1])\n",
    "    \n",
    "    ds = xr.concat([ds, ds_ext], dim=dim)\n",
    "    \n",
    "    return ds"
   ]
  },
  {
   "cell_type": "code",
   "execution_count": null,
   "id": "6cfad858-97cb-4008-a773-6354e037a4f1",
   "metadata": {
    "tags": []
   },
   "outputs": [],
   "source": [
    "# script parameters\n",
    "datadir = \"/p/scratch/deepacf/maelstrom/maelstrom_data/ap5/downscaling_benchmark_dataset/preprocessed_era5_crea6/t2m_mlevels/netcdf_data/all_files/train/\"\n",
    "outdir = \"/p/scratch/deepacf/maelstrom/maelstrom_data/ap5/downscaling_destine_aq/\"\n",
    "nyx_tar = (144, 144)\n",
    "fname = \"downscaling_tier2_test.nc\""
   ]
  },
  {
   "cell_type": "code",
   "execution_count": null,
   "id": "fd1c9c06-bc41-48a9-a039-a57948df3398",
   "metadata": {
    "tags": []
   },
   "outputs": [],
   "source": [
    "# create output-directory if necessary\n",
    "os.makedirs(outdir, exist_ok=True)\n",
    "\n",
    "# Read data\n",
    "datafile = os.path.join(datadir, fname)\n",
    "print(f\"Read data file '{datafile}'...\")\n",
    "ds = xr.open_dataset(datafile)"
   ]
  },
  {
   "cell_type": "code",
   "execution_count": null,
   "id": "bcf3856b-6f5a-416a-8c16-623d6f4ae074",
   "metadata": {
    "tags": []
   },
   "outputs": [],
   "source": [
    "# modify temporally time step\n",
    "times_save = ds[\"time\"]\n",
    "\n",
    "# offset-trick to obtain 24 time steps starting from 1 to 24 UTC with groupby\n",
    "ds[\"time\"] = pd.to_datetime(ds[\"time\"]) + pd.DateOffset(hours=-1)\n",
    "\n",
    "# extend data if desired\n",
    "if nyx_tar:\n",
    "    nyx_in = (len(ds[\"rlat\"]), len(ds[\"rlon\"]))\n",
    "    dnyx = np.array(nyx_tar) - np.array(nyx_in)\n",
    "    \n",
    "    ds = extend_data(ds, \"rlat\", dnyx[0])\n",
    "    ds = extend_data(ds, \"rlon\", dnyx[1])   \n",
    "    "
   ]
  },
  {
   "cell_type": "code",
   "execution_count": null,
   "id": "0e1df409-d622-44dd-89de-242b57aadd95",
   "metadata": {
    "tags": []
   },
   "outputs": [],
   "source": [
    "# group data for convenient iterating over dataset\n",
    "ds_grouped = ds.groupby(\"time.dayofyear\")"
   ]
  },
  {
   "cell_type": "code",
   "execution_count": null,
   "id": "258069d6-a3a1-4493-a07a-f8afeda4069b",
   "metadata": {
    "tags": []
   },
   "outputs": [],
   "source": [
    "from tqdm import tqdm\n",
    "\n",
    "for dd, ds_day in ds_grouped:\n",
    "    date_now = pd.to_datetime(ds_day[\"time\"][0].values)\n",
    "    \n",
    "    if len(ds_day[\"time\"]) != 24:\n",
    "        print(f\"Skipping {date_now.strftime('%Y-%m-%d')} due to incomplete data.\")\n",
    "        continue\n",
    "    \n",
    "    # undo offsetting\n",
    "    ds_day[\"time\"] = pd.to_datetime(ds_day[\"time\"]) - pd.DateOffset(hours=-1)\n",
    "    \n",
    "    date_str = date_now.strftime(\"%Y%m%d\")    \n",
    "    fname_out = os.path.join(outdir, fname.replace(\".nc\", f\"_{date_str}.nc\"))\n",
    "    print(f\"Save data for {date_now.strftime('%Y-%m-%d')} to '{fname_out}'...\")\n",
    "    \n",
    "    ds_day.to_netcdf(fname_out)\n",
    "    \n",
    "\n"
   ]
  },
  {
   "cell_type": "code",
   "execution_count": null,
   "id": "b6ca4cfc-0fc9-4338-b7de-f8deb12c77f8",
   "metadata": {},
   "outputs": [],
   "source": []
  }
 ],
 "metadata": {
  "kernelspec": {
   "display_name": "PyEarthSystem-2023.5",
   "language": "python",
   "name": "pyearthsystem"
  },
  "language_info": {
   "codemirror_mode": {
    "name": "ipython",
    "version": 3
   },
   "file_extension": ".py",
   "mimetype": "text/x-python",
   "name": "python",
   "nbconvert_exporter": "python",
   "pygments_lexer": "ipython3",
   "version": "3.10.4"
  }
 },
 "nbformat": 4,
 "nbformat_minor": 5
}
